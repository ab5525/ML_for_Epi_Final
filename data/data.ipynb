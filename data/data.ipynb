{
 "cells": [
  {
   "cell_type": "code",
   "execution_count": 1,
   "metadata": {
    "collapsed": true
   },
   "outputs": [],
   "source": [
    "import pandas as pd\n",
    "import numpy as np\n"
   ]
  },
  {
   "cell_type": "code",
   "execution_count": 2,
   "metadata": {
    "collapsed": false
   },
   "outputs": [
    {
     "name": "stderr",
     "output_type": "stream",
     "text": [
      "/Users/andrewbatuure/miniforge3/envs/tensorflow/lib/python3.9/site-packages/IPython/core/interactiveshell.py:3251: DtypeWarning: Columns (8,20,28,39,53,109,118,128,177,199,214,235,236,246,283,300,326,331,345,350,363,369,386,462,466,467,512,527,535,556,584,589,603,607,614,627,631,633,652,732,733,782,796,811,815,827,849,896,902,916,920,931,944,948,950,972,1013,1018,1045,1059,1071,1097,1118,1170,1181,1183,1187,1188,1249,1253,1266,1283,1321,1363,1379,1396,1405,1434,1477,1493,1543,1549,1550,1569,1620,1625,1638,1656,1698,1757,1774,1805,1849,1865,1869,1877,1889,1947,1973,1974,1978,1979,1996,2039,2059,2075,2080,2093,2115,2179,2196,2201,2202,2204,2261,2265,2278,2293,2305,2336,2359,2398,2404,2407,2410,2416,2444,2445,2448,2476,2482,2483,2512,2513,2517,2518,2526,2542,2554,2575,2586,2599,2610,2622,2633,2645,2656,2670,2686,2737,2753,2758,2772,2794,2817,2826,2872,2889,2893,2939,2945,3008,3009,3012,3046,3051,3052,3056,3057,3095,3109,3131,3144,3158,3171,3232,3236,3250,3285,3309,3318,3361,3378,3382,3432,3480,3481,3485,3486,3505,3510,3528,3541,3557,3596,3613,3628,3645,3660,3677,3754,3758,3772,3795,3820,3829,3872,3874,3891,3895,3904,3957,3992,4016,4030,4031,4044,4050,4057,4058,4062,4063,4105,4118,4134,4150,4174,4191,4207,4224,4239,4256,4320,4330,4333,4347,4394,4398,4442,4475,4509,4533,4535,4539) have mixed types.Specify dtype option on import or set low_memory=False.\n",
      "  exec(code_obj, self.user_global_ns, self.user_ns)\n"
     ]
    }
   ],
   "source": [
    "df = pd.read_csv('C3longitudinal.csv')"
   ]
  },
  {
   "cell_type": "code",
   "execution_count": 16,
   "metadata": {
    "collapsed": false
   },
   "outputs": [],
   "source": [
    "fix_df = df[['STATE','ParticipantID','RecSource','DurationV0', 'smokeV0', 'esmokeV0']].copy()\n",
    "fix_df['age'] = df['_agev7']\n",
    "fix_df['household_size'] = df['_HHtotal']\n",
    "fix_df['air_travel'] = df['airtravel_v4']\n",
    "\n",
    "\n",
    "#OPTIONALS\n",
    "# would you take antiviral for covid\n",
    "fix_df['antiviral'] = df['antiviralpill_v9']\n",
    "\n",
    "# VACCINES\n",
    "# booster\n",
    "mask = np.where(df['booster_v8'] == 1, 1,0)\n",
    "mask = mask + np.where(df['booster_v9'] == 1, 1,0)\n",
    "mask = mask + np.where(df['booster_v10'] == 1, 1,0)\n",
    "fix_df['booster'] = [False if i == 0 else True for i in mask]\n",
    "\n",
    "fix_df['vaccinated'] = df['fullyvax_v6_1']\n",
    "\n",
    "# would get a vaccine\n",
    "fix_df['early_vax_interest'] = df['covidvacV0']\n",
    "\n",
    "#DISEASE\n",
    "fix_df['had_covid'] = df['confirmcovid_v8']\n",
    "\n",
    "#Exposures v2\n",
    "#outdoor\n",
    "fix_df['swimming_1'] = [True if i==1 else False if i==97 else np.nan for i in df['timespent_v2_8']]\n",
    "fix_df['park_1'] = [True if i==1 else False if i==97 else np.nan for i in df['timespent_v2_9']]\n",
    "fix_df['no_exp'] = [True if i==1 else False if i==97 else np.nan for i in df['timespent_v2_10']]\n",
    "fix_df['swimming_2'] = [True if i==1 else False if i==97 else np.nan for i in df['timespent_v10_8']]\n",
    "fix_df['park_2'] = [True if i==1 else False if i==97 else np.nan for i in df['timespent_v10_9']]\n",
    "fix_df['no_exp2'] = [True if i==1 else False if i==97 else np.nan for i in df['timespent_v10_10']]\n",
    "\n",
    "\n",
    "#indoor\n",
    "fix_df['movie_1'] = [True if i==1 else False if i==97 else np.nan for i in df['timespent_v2_4']]\n",
    "fix_df['mall_1'] = [True if i==1 else False if i==97 else np.nan for i in df['timespent_v2_5']]\n",
    "fix_df['church_1'] = [True if i==1 else False if i==97 else np.nan for i in df['timespent_v2_6']]\n",
    "fix_df['movie_2'] = [True if i==1 else False if i==97 else np.nan for i in df['timespent_v10_4']]\n",
    "fix_df['mall_2'] = [True if i==1 else False if i==97 else np.nan for i in df['timespent_v10_5']]\n",
    "fix_df['church_2'] = [True if i==1 else False if i==97 else np.nan for i in df['timespent_v10_6']]\n",
    "\n",
    "#REASONS\n",
    "# fix_df['delay_side_effects'] = [True if i==1 else False if i == 0 else np.nan for i in df['_delayreason_v5_1']]\n",
    "# fix_df['delay_inconvenient'] = [True if i==1 else False if i == 0 else np.nan for i in df['_delayreason_v5_2']]\n",
    "# fix_df['delay_trust'] = [True if i==1 else False if i == 0 else np.nan for i in df['_delayreason_v5_3']]\n",
    "fix_df['delay_side_effects'] = [True if i==1 else False for i in df['_delayreason_v5_1']]\n",
    "fix_df['delay_inconvenient'] = [True if i==1 else False for i in df['_delayreason_v5_2']]\n",
    "fix_df['delay_trust'] = [True if i==1 else False for i in df['_delayreason_v5_3']]\n",
    "\n",
    "#children\n",
    "# fix_df['children_delay_se'] = [True if i==1 else False if i == 0 else np.nan for i in df['delayreason1215_v7_1']]\n",
    "# fix_df['children_delay_incon'] = [True if i==1 else False if i == 0 else np.nan for i in df['delayreason1215_v7_2']]\n",
    "# fix_df['children_delay_trust'] = [True if i==1 else False if i == 0 else np.nan for i in df['delayreason1215_v7_3']]\n",
    "fix_df['children_delay_se'] = [True if i==1 else False for i in df['delayreason1215_v7_1']]\n",
    "fix_df['children_delay_incon'] = [True if i==1 else False for i in df['delayreason1215_v7_2']]\n",
    "fix_df['children_delay_trust'] = [True if i==1 else False for i in df['delayreason1215_v7_3']]\n",
    "\n",
    "\n",
    "#claims\n",
    "fix_df['hoax'] = [True if i==1 else False for i in df['covidclaims_V1_8']]\n",
    "\n"
   ]
  },
  {
   "cell_type": "code",
   "execution_count": 17,
   "metadata": {
    "collapsed": false
   },
   "outputs": [
    {
     "data": {
      "text/plain": "1.0     5865\n98.0    1158\n0.0      863\nName: early_vax_interest, dtype: int64"
     },
     "metadata": {},
     "output_type": "display_data"
    },
    {
     "data": {
      "text/plain": "      STATE  ParticipantID      RecSource  DurationV0  smokeV0  esmokeV0  \\\n0        FL         100001  Original Wave       879.0      3.0       1.0   \n1        OR         100002  Original Wave       400.0      1.0       2.0   \n2        NY         100003  Original Wave      1804.0      1.0       1.0   \n3        WI         100004  Original Wave      1480.0      1.0       1.0   \n4        NY         100005  Original Wave      2970.0      1.0       1.0   \n...     ...            ...            ...         ...      ...       ...   \n13608   NaN         120555       Referral         NaN      NaN       NaN   \n13609    OH         120556       Referral         NaN      3.0       2.0   \n13610    OH         120557       Referral         NaN      3.0       1.0   \n13611    AZ         120558       Referral         NaN      1.0       1.0   \n13612    NY         120559       Referral         NaN      1.0       1.0   \n\n        age  household_size  air_travel  antiviral  ...  church_2  \\\n0      60.0             2.0         NaN        NaN  ...       NaN   \n1      39.0             2.0         0.0        1.0  ...     False   \n2      27.0             3.0         0.0        3.0  ...     False   \n3      53.0             3.0         0.0        1.0  ...     False   \n4      50.0             4.0         0.0        3.0  ...     False   \n...     ...             ...         ...        ...  ...       ...   \n13608  26.0             NaN         NaN        NaN  ...       NaN   \n13609  37.0             1.0         1.0        2.0  ...     False   \n13610  65.0             3.0         0.0        1.0  ...     False   \n13611  34.0             4.0         0.0        2.0  ...     False   \n13612  50.0             5.0         NaN        NaN  ...       NaN   \n\n       delay_side_effects  delay_inconvenient  delay_trust children_delay_se  \\\n0                   False               False        False             False   \n1                   False               False        False             False   \n2                   False               False        False             False   \n3                   False               False        False             False   \n4                   False               False        False             False   \n...                   ...                 ...          ...               ...   \n13608               False               False        False             False   \n13609               False               False         True             False   \n13610               False               False        False             False   \n13611               False               False        False             False   \n13612               False               False        False             False   \n\n      children_delay_incon children_delay_trust   hoax      gender      race  \n0                    False                False  False        Male  hispanic  \n1                    False                False  False        Male     white  \n2                    False                False  False      Female     white  \n3                    False                False  False      Female     white  \n4                    False                False  False      Female     white  \n...                    ...                  ...    ...         ...       ...  \n13608                False                False  False  Non-Binary     other  \n13609                False                False  False      Female     black  \n13610                False                False  False      Female     black  \n13611                False                False  False      Female  hispanic  \n13612                False                False  False      Female  asian_pi  \n\n[13613 rows x 35 columns]",
      "text/html": "<div>\n<style scoped>\n    .dataframe tbody tr th:only-of-type {\n        vertical-align: middle;\n    }\n\n    .dataframe tbody tr th {\n        vertical-align: top;\n    }\n\n    .dataframe thead th {\n        text-align: right;\n    }\n</style>\n<table border=\"1\" class=\"dataframe\">\n  <thead>\n    <tr style=\"text-align: right;\">\n      <th></th>\n      <th>STATE</th>\n      <th>ParticipantID</th>\n      <th>RecSource</th>\n      <th>DurationV0</th>\n      <th>smokeV0</th>\n      <th>esmokeV0</th>\n      <th>age</th>\n      <th>household_size</th>\n      <th>air_travel</th>\n      <th>antiviral</th>\n      <th>...</th>\n      <th>church_2</th>\n      <th>delay_side_effects</th>\n      <th>delay_inconvenient</th>\n      <th>delay_trust</th>\n      <th>children_delay_se</th>\n      <th>children_delay_incon</th>\n      <th>children_delay_trust</th>\n      <th>hoax</th>\n      <th>gender</th>\n      <th>race</th>\n    </tr>\n  </thead>\n  <tbody>\n    <tr>\n      <th>0</th>\n      <td>FL</td>\n      <td>100001</td>\n      <td>Original Wave</td>\n      <td>879.0</td>\n      <td>3.0</td>\n      <td>1.0</td>\n      <td>60.0</td>\n      <td>2.0</td>\n      <td>NaN</td>\n      <td>NaN</td>\n      <td>...</td>\n      <td>NaN</td>\n      <td>False</td>\n      <td>False</td>\n      <td>False</td>\n      <td>False</td>\n      <td>False</td>\n      <td>False</td>\n      <td>False</td>\n      <td>Male</td>\n      <td>hispanic</td>\n    </tr>\n    <tr>\n      <th>1</th>\n      <td>OR</td>\n      <td>100002</td>\n      <td>Original Wave</td>\n      <td>400.0</td>\n      <td>1.0</td>\n      <td>2.0</td>\n      <td>39.0</td>\n      <td>2.0</td>\n      <td>0.0</td>\n      <td>1.0</td>\n      <td>...</td>\n      <td>False</td>\n      <td>False</td>\n      <td>False</td>\n      <td>False</td>\n      <td>False</td>\n      <td>False</td>\n      <td>False</td>\n      <td>False</td>\n      <td>Male</td>\n      <td>white</td>\n    </tr>\n    <tr>\n      <th>2</th>\n      <td>NY</td>\n      <td>100003</td>\n      <td>Original Wave</td>\n      <td>1804.0</td>\n      <td>1.0</td>\n      <td>1.0</td>\n      <td>27.0</td>\n      <td>3.0</td>\n      <td>0.0</td>\n      <td>3.0</td>\n      <td>...</td>\n      <td>False</td>\n      <td>False</td>\n      <td>False</td>\n      <td>False</td>\n      <td>False</td>\n      <td>False</td>\n      <td>False</td>\n      <td>False</td>\n      <td>Female</td>\n      <td>white</td>\n    </tr>\n    <tr>\n      <th>3</th>\n      <td>WI</td>\n      <td>100004</td>\n      <td>Original Wave</td>\n      <td>1480.0</td>\n      <td>1.0</td>\n      <td>1.0</td>\n      <td>53.0</td>\n      <td>3.0</td>\n      <td>0.0</td>\n      <td>1.0</td>\n      <td>...</td>\n      <td>False</td>\n      <td>False</td>\n      <td>False</td>\n      <td>False</td>\n      <td>False</td>\n      <td>False</td>\n      <td>False</td>\n      <td>False</td>\n      <td>Female</td>\n      <td>white</td>\n    </tr>\n    <tr>\n      <th>4</th>\n      <td>NY</td>\n      <td>100005</td>\n      <td>Original Wave</td>\n      <td>2970.0</td>\n      <td>1.0</td>\n      <td>1.0</td>\n      <td>50.0</td>\n      <td>4.0</td>\n      <td>0.0</td>\n      <td>3.0</td>\n      <td>...</td>\n      <td>False</td>\n      <td>False</td>\n      <td>False</td>\n      <td>False</td>\n      <td>False</td>\n      <td>False</td>\n      <td>False</td>\n      <td>False</td>\n      <td>Female</td>\n      <td>white</td>\n    </tr>\n    <tr>\n      <th>...</th>\n      <td>...</td>\n      <td>...</td>\n      <td>...</td>\n      <td>...</td>\n      <td>...</td>\n      <td>...</td>\n      <td>...</td>\n      <td>...</td>\n      <td>...</td>\n      <td>...</td>\n      <td>...</td>\n      <td>...</td>\n      <td>...</td>\n      <td>...</td>\n      <td>...</td>\n      <td>...</td>\n      <td>...</td>\n      <td>...</td>\n      <td>...</td>\n      <td>...</td>\n      <td>...</td>\n    </tr>\n    <tr>\n      <th>13608</th>\n      <td>NaN</td>\n      <td>120555</td>\n      <td>Referral</td>\n      <td>NaN</td>\n      <td>NaN</td>\n      <td>NaN</td>\n      <td>26.0</td>\n      <td>NaN</td>\n      <td>NaN</td>\n      <td>NaN</td>\n      <td>...</td>\n      <td>NaN</td>\n      <td>False</td>\n      <td>False</td>\n      <td>False</td>\n      <td>False</td>\n      <td>False</td>\n      <td>False</td>\n      <td>False</td>\n      <td>Non-Binary</td>\n      <td>other</td>\n    </tr>\n    <tr>\n      <th>13609</th>\n      <td>OH</td>\n      <td>120556</td>\n      <td>Referral</td>\n      <td>NaN</td>\n      <td>3.0</td>\n      <td>2.0</td>\n      <td>37.0</td>\n      <td>1.0</td>\n      <td>1.0</td>\n      <td>2.0</td>\n      <td>...</td>\n      <td>False</td>\n      <td>False</td>\n      <td>False</td>\n      <td>True</td>\n      <td>False</td>\n      <td>False</td>\n      <td>False</td>\n      <td>False</td>\n      <td>Female</td>\n      <td>black</td>\n    </tr>\n    <tr>\n      <th>13610</th>\n      <td>OH</td>\n      <td>120557</td>\n      <td>Referral</td>\n      <td>NaN</td>\n      <td>3.0</td>\n      <td>1.0</td>\n      <td>65.0</td>\n      <td>3.0</td>\n      <td>0.0</td>\n      <td>1.0</td>\n      <td>...</td>\n      <td>False</td>\n      <td>False</td>\n      <td>False</td>\n      <td>False</td>\n      <td>False</td>\n      <td>False</td>\n      <td>False</td>\n      <td>False</td>\n      <td>Female</td>\n      <td>black</td>\n    </tr>\n    <tr>\n      <th>13611</th>\n      <td>AZ</td>\n      <td>120558</td>\n      <td>Referral</td>\n      <td>NaN</td>\n      <td>1.0</td>\n      <td>1.0</td>\n      <td>34.0</td>\n      <td>4.0</td>\n      <td>0.0</td>\n      <td>2.0</td>\n      <td>...</td>\n      <td>False</td>\n      <td>False</td>\n      <td>False</td>\n      <td>False</td>\n      <td>False</td>\n      <td>False</td>\n      <td>False</td>\n      <td>False</td>\n      <td>Female</td>\n      <td>hispanic</td>\n    </tr>\n    <tr>\n      <th>13612</th>\n      <td>NY</td>\n      <td>120559</td>\n      <td>Referral</td>\n      <td>NaN</td>\n      <td>1.0</td>\n      <td>1.0</td>\n      <td>50.0</td>\n      <td>5.0</td>\n      <td>NaN</td>\n      <td>NaN</td>\n      <td>...</td>\n      <td>NaN</td>\n      <td>False</td>\n      <td>False</td>\n      <td>False</td>\n      <td>False</td>\n      <td>False</td>\n      <td>False</td>\n      <td>False</td>\n      <td>Female</td>\n      <td>asian_pi</td>\n    </tr>\n  </tbody>\n</table>\n<p>13613 rows × 35 columns</p>\n</div>"
     },
     "execution_count": 17,
     "metadata": {},
     "output_type": "execute_result"
    }
   ],
   "source": [
    "fix_df['gender'] = ['Male' if i == 1 else 'Female' if i == 2 else 'Non-Binary' for i in df['genderV0']]\n",
    "\n",
    "# -99: Skipped, 1: 1Hispanic, 2: 4White NH, 3: 2Black NH, 4: 3Asian\\Pacific Islander, 5: 5Other, 6: 3Asian\\Pacific Islander, 7: 5Other, 8: 5Other, 9: 9Multiracial, 10: 10Missing\n",
    "fix_df['race'] = ['hispanic' if i == 1 else 'white' if i == 2 else 'black' if i== 3\n",
    "                else 'asian_pi' if i== 4 else 'asian_pi' if i == 6 else 'multiracial' if i == 9\n",
    "                else np.nan if i == 10 else 'other' for i in df['racee']]\n",
    "\n",
    "\n",
    "display(fix_df['early_vax_interest'].value_counts())\n",
    "fix_df"
   ]
  },
  {
   "cell_type": "code",
   "execution_count": 23,
   "outputs": [
    {
     "data": {
      "text/plain": "STATE                   1513\nParticipantID              0\nRecSource                  0\nDurationV0              3472\nsmokeV0                 1208\nesmokeV0                1208\nage                        9\nhousehold_size           940\nair_travel              8577\nantiviral               8730\nbooster                    0\nvaccinated              9222\nearly_vax_interest      5727\nhad_covid               8822\nswimming_1              8514\npark_1                  8514\nno_exp                  8514\nswimming_2              8851\npark_2                  8851\nno_exp2                 8851\nmovie_1                 8514\nmall_1                  8514\nchurch_1                8514\nmovie_2                 8851\nmall_2                  8851\nchurch_2                8851\ndelay_side_effects         0\ndelay_inconvenient         0\ndelay_trust                0\nchildren_delay_se          0\nchildren_delay_incon       0\nchildren_delay_trust       0\nhoax                       0\ngender                     0\nrace                       0\ndtype: int64"
     },
     "metadata": {},
     "output_type": "display_data"
    },
    {
     "data": {
      "text/plain": "2249"
     },
     "execution_count": 23,
     "metadata": {},
     "output_type": "execute_result"
    }
   ],
   "source": [
    "display(fix_df.isna().sum())\n",
    "len(fix_df.dropna())\n"
   ],
   "metadata": {
    "collapsed": false
   }
  },
  {
   "cell_type": "code",
   "execution_count": 21,
   "metadata": {
    "collapsed": false
   },
   "outputs": [
    {
     "data": {
      "text/plain": "STATE                   1513\nParticipantID              0\nRecSource                  0\nDurationV0              3472\nsmokeV0                 1208\nesmokeV0                1208\nage                        9\nhousehold_size           940\nair_travel              8577\nantiviral               8730\nbooster                    0\nvaccinated              9222\nearly_vax_interest      5727\nhad_covid               8822\nswimming_1              8514\npark_1                  8514\nno_exp                  8514\nswimming_2              8851\npark_2                  8851\nno_exp2                 8851\nmovie_1                 8514\nmall_1                  8514\nchurch_1                8514\nmovie_2                 8851\nmall_2                  8851\nchurch_2                8851\ndelay_side_effects         0\ndelay_inconvenient         0\ndelay_trust                0\nchildren_delay_se          0\nchildren_delay_incon       0\nchildren_delay_trust       0\nhoax                       0\ngender                     0\nrace                       0\ndtype: int64"
     },
     "execution_count": 21,
     "metadata": {},
     "output_type": "execute_result"
    }
   ],
   "source": [
    "fix_df.isna().sum()\n",
    "fix_df.to_csv('C3longitudinal_clean.csv')"
   ]
  },
  {
   "cell_type": "code",
   "execution_count": null,
   "outputs": [],
   "source": [],
   "metadata": {
    "collapsed": false
   }
  }
 ],
 "metadata": {
  "kernelspec": {
   "name": "tensorflow",
   "language": "python",
   "display_name": "Python 3.9 (tensorflow)"
  },
  "language_info": {
   "codemirror_mode": {
    "name": "ipython",
    "version": 3
   },
   "file_extension": ".py",
   "mimetype": "text/x-python",
   "name": "python",
   "nbconvert_exporter": "python",
   "pygments_lexer": "ipython3",
   "version": "3.10.9"
  }
 },
 "nbformat": 4,
 "nbformat_minor": 0
}
