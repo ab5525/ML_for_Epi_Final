{
 "cells": [
  {
   "cell_type": "code",
   "execution_count": 1,
   "metadata": {
    "collapsed": true
   },
   "outputs": [],
   "source": [
    "import pandas as pd\n",
    "import numpy as np\n"
   ]
  },
  {
   "cell_type": "code",
   "execution_count": 2,
   "outputs": [
    {
     "name": "stderr",
     "output_type": "stream",
     "text": [
      "/Users/andrewbatuure/miniforge3/envs/tensorflow/lib/python3.9/site-packages/IPython/core/interactiveshell.py:3251: DtypeWarning: Columns (8,20,28,39,53,109,118,128,177,199,214,235,236,246,283,300,326,331,345,350,363,369,386,462,466,467,512,527,535,556,584,589,603,607,614,627,631,633,652,732,733,782,796,811,815,827,849,896,902,916,920,931,944,948,950,972,1013,1018,1045,1059,1071,1097,1118,1170,1181,1183,1187,1188,1249,1253,1266,1283,1321,1363,1379,1396,1405,1434,1477,1493,1543,1549,1550,1569,1620,1625,1638,1656,1698,1757,1774,1805,1849,1865,1869,1877,1889,1947,1973,1974,1978,1979,1996,2039,2059,2075,2080,2093,2115,2179,2196,2201,2202,2204,2261,2265,2278,2293,2305,2336,2359,2398,2404,2407,2410,2416,2444,2445,2448,2476,2482,2483,2512,2513,2517,2518,2526,2542,2554,2575,2586,2599,2610,2622,2633,2645,2656,2670,2686,2737,2753,2758,2772,2794,2817,2826,2872,2889,2893,2939,2945,3008,3009,3012,3046,3051,3052,3056,3057,3095,3109,3131,3144,3158,3171,3232,3236,3250,3285,3309,3318,3361,3378,3382,3432,3480,3481,3485,3486,3505,3510,3528,3541,3557,3596,3613,3628,3645,3660,3677,3754,3758,3772,3795,3820,3829,3872,3874,3891,3895,3904,3957,3992,4016,4030,4031,4044,4050,4057,4058,4062,4063,4105,4118,4134,4150,4174,4191,4207,4224,4239,4256,4320,4330,4333,4347,4394,4398,4442,4475,4509,4533,4535,4539) have mixed types.Specify dtype option on import or set low_memory=False.\n",
      "  exec(code_obj, self.user_global_ns, self.user_ns)\n"
     ]
    }
   ],
   "source": [
    "df = pd.read_csv('C3longitudinal.csv')"
   ],
   "metadata": {
    "collapsed": false
   }
  },
  {
   "cell_type": "code",
   "execution_count": 3,
   "outputs": [
    {
     "data": {
      "text/plain": "  STATE  ParticipantID      RecSource       ResponseIDV0   EndDateV0dt  \\\n0    FL         100001  Original Wave  R_tKa7YEaoL9F1mkp  1.901030e+09   \n1    OR         100002  Original Wave  R_3EWLoLpRRhhfp8L  1.901030e+09   \n2    NY         100003  Original Wave  R_XG5V4wzusrrJflT  1.901030e+09   \n3    WI         100004  Original Wave  R_2R2rbwyz9CoC1cZ  1.901030e+09   \n4    NY         100005  Original Wave  R_1qX8DC4RLBVkCNg  1.901031e+09   \n\n   StatusV0  ProgressV0  DurationV0 UserLanguageV0  consentV0  ...  \\\n0       0.0       100.0       879.0          ES-ES        1.0  ...   \n1       0.0       100.0       400.0             EN        1.0  ...   \n2       0.0       100.0      1804.0             EN        1.0  ...   \n3       0.0       100.0      1480.0             EN        1.0  ...   \n4       0.0       100.0      2970.0             EN        1.0  ...   \n\n   LabReceivedDateS3a  TestResultS3  TestResultS3a  ConfirmatoryResultS3  \\\n0                 NaN           NaN            NaN                   NaN   \n1                 NaN  Non-Reactive            NaN              Reactive   \n2                 NaN  Non-Reactive            NaN              Reactive   \n3                 NaN  Non-Reactive            NaN              Reactive   \n4                 NaN      Reactive            NaN              Reactive   \n\n   ConfirmatoryResultS3a  OrderIDS3  RejectedS3  RejectedReasonS3  \\\n0                    NaN        NaN         NaN               NaN   \n1                    NaN  7100002.0         0.0               NaN   \n2                    NaN  7100003.0         0.0               NaN   \n3                    NaN  7100004.0         0.0               NaN   \n4                    NaN  7100005.0         0.0               NaN   \n\n   TestRequestDateS3  TestResultDateS3  \n0                NaN               NaN  \n1            22713.0           22728.0  \n2            22713.0           22755.0  \n3            22713.0           22736.0  \n4            22713.0           22791.0  \n\n[5 rows x 4542 columns]",
      "text/html": "<div>\n<style scoped>\n    .dataframe tbody tr th:only-of-type {\n        vertical-align: middle;\n    }\n\n    .dataframe tbody tr th {\n        vertical-align: top;\n    }\n\n    .dataframe thead th {\n        text-align: right;\n    }\n</style>\n<table border=\"1\" class=\"dataframe\">\n  <thead>\n    <tr style=\"text-align: right;\">\n      <th></th>\n      <th>STATE</th>\n      <th>ParticipantID</th>\n      <th>RecSource</th>\n      <th>ResponseIDV0</th>\n      <th>EndDateV0dt</th>\n      <th>StatusV0</th>\n      <th>ProgressV0</th>\n      <th>DurationV0</th>\n      <th>UserLanguageV0</th>\n      <th>consentV0</th>\n      <th>...</th>\n      <th>LabReceivedDateS3a</th>\n      <th>TestResultS3</th>\n      <th>TestResultS3a</th>\n      <th>ConfirmatoryResultS3</th>\n      <th>ConfirmatoryResultS3a</th>\n      <th>OrderIDS3</th>\n      <th>RejectedS3</th>\n      <th>RejectedReasonS3</th>\n      <th>TestRequestDateS3</th>\n      <th>TestResultDateS3</th>\n    </tr>\n  </thead>\n  <tbody>\n    <tr>\n      <th>0</th>\n      <td>FL</td>\n      <td>100001</td>\n      <td>Original Wave</td>\n      <td>R_tKa7YEaoL9F1mkp</td>\n      <td>1.901030e+09</td>\n      <td>0.0</td>\n      <td>100.0</td>\n      <td>879.0</td>\n      <td>ES-ES</td>\n      <td>1.0</td>\n      <td>...</td>\n      <td>NaN</td>\n      <td>NaN</td>\n      <td>NaN</td>\n      <td>NaN</td>\n      <td>NaN</td>\n      <td>NaN</td>\n      <td>NaN</td>\n      <td>NaN</td>\n      <td>NaN</td>\n      <td>NaN</td>\n    </tr>\n    <tr>\n      <th>1</th>\n      <td>OR</td>\n      <td>100002</td>\n      <td>Original Wave</td>\n      <td>R_3EWLoLpRRhhfp8L</td>\n      <td>1.901030e+09</td>\n      <td>0.0</td>\n      <td>100.0</td>\n      <td>400.0</td>\n      <td>EN</td>\n      <td>1.0</td>\n      <td>...</td>\n      <td>NaN</td>\n      <td>Non-Reactive</td>\n      <td>NaN</td>\n      <td>Reactive</td>\n      <td>NaN</td>\n      <td>7100002.0</td>\n      <td>0.0</td>\n      <td>NaN</td>\n      <td>22713.0</td>\n      <td>22728.0</td>\n    </tr>\n    <tr>\n      <th>2</th>\n      <td>NY</td>\n      <td>100003</td>\n      <td>Original Wave</td>\n      <td>R_XG5V4wzusrrJflT</td>\n      <td>1.901030e+09</td>\n      <td>0.0</td>\n      <td>100.0</td>\n      <td>1804.0</td>\n      <td>EN</td>\n      <td>1.0</td>\n      <td>...</td>\n      <td>NaN</td>\n      <td>Non-Reactive</td>\n      <td>NaN</td>\n      <td>Reactive</td>\n      <td>NaN</td>\n      <td>7100003.0</td>\n      <td>0.0</td>\n      <td>NaN</td>\n      <td>22713.0</td>\n      <td>22755.0</td>\n    </tr>\n    <tr>\n      <th>3</th>\n      <td>WI</td>\n      <td>100004</td>\n      <td>Original Wave</td>\n      <td>R_2R2rbwyz9CoC1cZ</td>\n      <td>1.901030e+09</td>\n      <td>0.0</td>\n      <td>100.0</td>\n      <td>1480.0</td>\n      <td>EN</td>\n      <td>1.0</td>\n      <td>...</td>\n      <td>NaN</td>\n      <td>Non-Reactive</td>\n      <td>NaN</td>\n      <td>Reactive</td>\n      <td>NaN</td>\n      <td>7100004.0</td>\n      <td>0.0</td>\n      <td>NaN</td>\n      <td>22713.0</td>\n      <td>22736.0</td>\n    </tr>\n    <tr>\n      <th>4</th>\n      <td>NY</td>\n      <td>100005</td>\n      <td>Original Wave</td>\n      <td>R_1qX8DC4RLBVkCNg</td>\n      <td>1.901031e+09</td>\n      <td>0.0</td>\n      <td>100.0</td>\n      <td>2970.0</td>\n      <td>EN</td>\n      <td>1.0</td>\n      <td>...</td>\n      <td>NaN</td>\n      <td>Reactive</td>\n      <td>NaN</td>\n      <td>Reactive</td>\n      <td>NaN</td>\n      <td>7100005.0</td>\n      <td>0.0</td>\n      <td>NaN</td>\n      <td>22713.0</td>\n      <td>22791.0</td>\n    </tr>\n  </tbody>\n</table>\n<p>5 rows × 4542 columns</p>\n</div>"
     },
     "execution_count": 3,
     "metadata": {},
     "output_type": "execute_result"
    }
   ],
   "source": [
    "# df.head(5)"
   ],
   "metadata": {
    "collapsed": false
   }
  },
  {
   "cell_type": "code",
   "execution_count": 50,
   "outputs": [],
   "source": [
    "fix_df = df[['STATE','ParticipantID','RecSource','DurationV0', 'smokeV0', 'esmokeV0']].copy()\n",
    "fix_df['age'] = df['_agev7']\n",
    "fix_df['household_size'] = df['_HHtotal']\n",
    "fix_df['air_travel'] = df['airtravel_v4']\n",
    "\n",
    "\n",
    "#OPTIONALS\n",
    "# would you take antiviral for covid\n",
    "fix_df['antiviral'] = df['antiviralpill_v9']\n",
    "\n",
    "# VACCINES\n",
    "# booster\n",
    "mask = np.where(df['booster_v8'] == 1, 1,0)\n",
    "mask = mask + np.where(df['booster_v9'] == 1, 1,0)\n",
    "mask = mask + np.where(df['booster_v10'] == 1, 1,0)\n",
    "fix_df['booster'] = [False if i == 0 else True for i in mask]\n",
    "\n",
    "# would get a vaccine\n",
    "fix_df['early_vax_interest'] = df['covidvacV0']\n",
    "\n",
    "#fix_df['booster'] = df['booster_v8']\n",
    "\n",
    "#DISEASE\n",
    "#\n",
    "fix_df['had_covid'] = df['confirmcovid_v8']\n",
    "#fix_df['covid_date'] = df['confirmcoviddate_v8']"
   ],
   "metadata": {
    "collapsed": false
   }
  },
  {
   "cell_type": "code",
   "execution_count": 52,
   "outputs": [
    {
     "data": {
      "text/plain": "1.0     5865\n98.0    1158\n0.0      863\nName: early_vax_interest, dtype: int64"
     },
     "metadata": {},
     "output_type": "display_data"
    },
    {
     "data": {
      "text/plain": "      STATE  ParticipantID      RecSource  DurationV0  smokeV0  esmokeV0  \\\n0        FL         100001  Original Wave       879.0      3.0       1.0   \n1        OR         100002  Original Wave       400.0      1.0       2.0   \n2        NY         100003  Original Wave      1804.0      1.0       1.0   \n3        WI         100004  Original Wave      1480.0      1.0       1.0   \n4        NY         100005  Original Wave      2970.0      1.0       1.0   \n...     ...            ...            ...         ...      ...       ...   \n13608   NaN         120555       Referral         NaN      NaN       NaN   \n13609    OH         120556       Referral         NaN      3.0       2.0   \n13610    OH         120557       Referral         NaN      3.0       1.0   \n13611    AZ         120558       Referral         NaN      1.0       1.0   \n13612    NY         120559       Referral         NaN      1.0       1.0   \n\n        age  household_size  air_travel  antiviral  booster  \\\n0      60.0             2.0         NaN        NaN    False   \n1      39.0             2.0         0.0        1.0     True   \n2      27.0             3.0         0.0        3.0     True   \n3      53.0             3.0         0.0        1.0     True   \n4      50.0             4.0         0.0        3.0     True   \n...     ...             ...         ...        ...      ...   \n13608  26.0             NaN         NaN        NaN    False   \n13609  37.0             1.0         1.0        2.0     True   \n13610  65.0             3.0         0.0        1.0     True   \n13611  34.0             4.0         0.0        2.0     True   \n13612  50.0             5.0         NaN        NaN    False   \n\n       early_vax_interest  had_covid      gender      race  \n0                     1.0        NaN        Male  hispanic  \n1                     1.0        0.0        Male     white  \n2                     1.0        0.0      Female     white  \n3                     1.0        NaN      Female     white  \n4                     1.0        0.0      Female     white  \n...                   ...        ...         ...       ...  \n13608                 NaN        NaN  Non-Binary     other  \n13609                 NaN        1.0      Female     black  \n13610                 NaN        0.0      Female     black  \n13611                 NaN        0.0      Female  hispanic  \n13612                 NaN        NaN      Female  asian_pi  \n\n[13613 rows x 15 columns]",
      "text/html": "<div>\n<style scoped>\n    .dataframe tbody tr th:only-of-type {\n        vertical-align: middle;\n    }\n\n    .dataframe tbody tr th {\n        vertical-align: top;\n    }\n\n    .dataframe thead th {\n        text-align: right;\n    }\n</style>\n<table border=\"1\" class=\"dataframe\">\n  <thead>\n    <tr style=\"text-align: right;\">\n      <th></th>\n      <th>STATE</th>\n      <th>ParticipantID</th>\n      <th>RecSource</th>\n      <th>DurationV0</th>\n      <th>smokeV0</th>\n      <th>esmokeV0</th>\n      <th>age</th>\n      <th>household_size</th>\n      <th>air_travel</th>\n      <th>antiviral</th>\n      <th>booster</th>\n      <th>early_vax_interest</th>\n      <th>had_covid</th>\n      <th>gender</th>\n      <th>race</th>\n    </tr>\n  </thead>\n  <tbody>\n    <tr>\n      <th>0</th>\n      <td>FL</td>\n      <td>100001</td>\n      <td>Original Wave</td>\n      <td>879.0</td>\n      <td>3.0</td>\n      <td>1.0</td>\n      <td>60.0</td>\n      <td>2.0</td>\n      <td>NaN</td>\n      <td>NaN</td>\n      <td>False</td>\n      <td>1.0</td>\n      <td>NaN</td>\n      <td>Male</td>\n      <td>hispanic</td>\n    </tr>\n    <tr>\n      <th>1</th>\n      <td>OR</td>\n      <td>100002</td>\n      <td>Original Wave</td>\n      <td>400.0</td>\n      <td>1.0</td>\n      <td>2.0</td>\n      <td>39.0</td>\n      <td>2.0</td>\n      <td>0.0</td>\n      <td>1.0</td>\n      <td>True</td>\n      <td>1.0</td>\n      <td>0.0</td>\n      <td>Male</td>\n      <td>white</td>\n    </tr>\n    <tr>\n      <th>2</th>\n      <td>NY</td>\n      <td>100003</td>\n      <td>Original Wave</td>\n      <td>1804.0</td>\n      <td>1.0</td>\n      <td>1.0</td>\n      <td>27.0</td>\n      <td>3.0</td>\n      <td>0.0</td>\n      <td>3.0</td>\n      <td>True</td>\n      <td>1.0</td>\n      <td>0.0</td>\n      <td>Female</td>\n      <td>white</td>\n    </tr>\n    <tr>\n      <th>3</th>\n      <td>WI</td>\n      <td>100004</td>\n      <td>Original Wave</td>\n      <td>1480.0</td>\n      <td>1.0</td>\n      <td>1.0</td>\n      <td>53.0</td>\n      <td>3.0</td>\n      <td>0.0</td>\n      <td>1.0</td>\n      <td>True</td>\n      <td>1.0</td>\n      <td>NaN</td>\n      <td>Female</td>\n      <td>white</td>\n    </tr>\n    <tr>\n      <th>4</th>\n      <td>NY</td>\n      <td>100005</td>\n      <td>Original Wave</td>\n      <td>2970.0</td>\n      <td>1.0</td>\n      <td>1.0</td>\n      <td>50.0</td>\n      <td>4.0</td>\n      <td>0.0</td>\n      <td>3.0</td>\n      <td>True</td>\n      <td>1.0</td>\n      <td>0.0</td>\n      <td>Female</td>\n      <td>white</td>\n    </tr>\n    <tr>\n      <th>...</th>\n      <td>...</td>\n      <td>...</td>\n      <td>...</td>\n      <td>...</td>\n      <td>...</td>\n      <td>...</td>\n      <td>...</td>\n      <td>...</td>\n      <td>...</td>\n      <td>...</td>\n      <td>...</td>\n      <td>...</td>\n      <td>...</td>\n      <td>...</td>\n      <td>...</td>\n    </tr>\n    <tr>\n      <th>13608</th>\n      <td>NaN</td>\n      <td>120555</td>\n      <td>Referral</td>\n      <td>NaN</td>\n      <td>NaN</td>\n      <td>NaN</td>\n      <td>26.0</td>\n      <td>NaN</td>\n      <td>NaN</td>\n      <td>NaN</td>\n      <td>False</td>\n      <td>NaN</td>\n      <td>NaN</td>\n      <td>Non-Binary</td>\n      <td>other</td>\n    </tr>\n    <tr>\n      <th>13609</th>\n      <td>OH</td>\n      <td>120556</td>\n      <td>Referral</td>\n      <td>NaN</td>\n      <td>3.0</td>\n      <td>2.0</td>\n      <td>37.0</td>\n      <td>1.0</td>\n      <td>1.0</td>\n      <td>2.0</td>\n      <td>True</td>\n      <td>NaN</td>\n      <td>1.0</td>\n      <td>Female</td>\n      <td>black</td>\n    </tr>\n    <tr>\n      <th>13610</th>\n      <td>OH</td>\n      <td>120557</td>\n      <td>Referral</td>\n      <td>NaN</td>\n      <td>3.0</td>\n      <td>1.0</td>\n      <td>65.0</td>\n      <td>3.0</td>\n      <td>0.0</td>\n      <td>1.0</td>\n      <td>True</td>\n      <td>NaN</td>\n      <td>0.0</td>\n      <td>Female</td>\n      <td>black</td>\n    </tr>\n    <tr>\n      <th>13611</th>\n      <td>AZ</td>\n      <td>120558</td>\n      <td>Referral</td>\n      <td>NaN</td>\n      <td>1.0</td>\n      <td>1.0</td>\n      <td>34.0</td>\n      <td>4.0</td>\n      <td>0.0</td>\n      <td>2.0</td>\n      <td>True</td>\n      <td>NaN</td>\n      <td>0.0</td>\n      <td>Female</td>\n      <td>hispanic</td>\n    </tr>\n    <tr>\n      <th>13612</th>\n      <td>NY</td>\n      <td>120559</td>\n      <td>Referral</td>\n      <td>NaN</td>\n      <td>1.0</td>\n      <td>1.0</td>\n      <td>50.0</td>\n      <td>5.0</td>\n      <td>NaN</td>\n      <td>NaN</td>\n      <td>False</td>\n      <td>NaN</td>\n      <td>NaN</td>\n      <td>Female</td>\n      <td>asian_pi</td>\n    </tr>\n  </tbody>\n</table>\n<p>13613 rows × 15 columns</p>\n</div>"
     },
     "execution_count": 52,
     "metadata": {},
     "output_type": "execute_result"
    }
   ],
   "source": [
    "fix_df['gender'] = ['Male' if i == 1 else 'Female' if i == 2 else 'Non-Binary' for i in df['genderV0']]\n",
    "\n",
    "# -99: Skipped, 1: 1Hispanic, 2: 4White NH, 3: 2Black NH, 4: 3Asian\\Pacific Islander, 5: 5Other, 6: 3Asian\\Pacific Islander, 7: 5Other, 8: 5Other, 9: 9Multiracial, 10: 10Missing\n",
    "fix_df['race'] = ['hispanic' if i == 1 else 'white' if i == 2 else 'black' if i== 3\n",
    "                else 'asian_pi' if i== 4 else 'asian_pi' if i == 6 else 'multiracial' if i == 9\n",
    "                else pd.NA if i == 10 else 'other' for i in df['racee']]\n",
    "\n",
    "\n",
    "display(fix_df['early_vax_interest'].value_counts())\n",
    "fix_df"
   ],
   "metadata": {
    "collapsed": false
   }
  },
  {
   "cell_type": "code",
   "execution_count": null,
   "outputs": [],
   "source": [],
   "metadata": {
    "collapsed": false
   }
  }
 ],
 "metadata": {
  "kernelspec": {
   "display_name": "Python 3",
   "language": "python",
   "name": "python3"
  },
  "language_info": {
   "codemirror_mode": {
    "name": "ipython",
    "version": 2
   },
   "file_extension": ".py",
   "mimetype": "text/x-python",
   "name": "python",
   "nbconvert_exporter": "python",
   "pygments_lexer": "ipython2",
   "version": "2.7.6"
  }
 },
 "nbformat": 4,
 "nbformat_minor": 0
}
